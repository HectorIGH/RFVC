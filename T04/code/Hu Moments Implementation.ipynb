{
 "cells": [
  {
   "cell_type": "code",
   "execution_count": 1,
   "metadata": {},
   "outputs": [],
   "source": [
    "import numpy as np\n",
    "import matplotlib.pyplot as plt\n",
    "from collections import Counter\n",
    "import cv2\n",
    "%matplotlib qt"
   ]
  },
  {
   "cell_type": "code",
   "execution_count": 2,
   "metadata": {},
   "outputs": [],
   "source": [
    "m = np.array([[1,1,0,1,1,1,0,1],[1,1,0,1,0,1,0,1],[1,1,1,1,0,0,0,1],[0,0,0,0,0,0,0,1],[1,1,1,1,0,1,0,1],[0,0,0,1,0,1,0,1],[1,1,1,1,0,0,0,1],[1,1,1,1,0,1,1,1], [1,1,1,1,0,1,1,1]]).astype(float)"
   ]
  },
  {
   "cell_type": "code",
   "execution_count": 3,
   "metadata": {},
   "outputs": [
    {
     "data": {
      "text/plain": [
       "<matplotlib.colorbar.Colorbar at 0x21340aeb488>"
      ]
     },
     "execution_count": 3,
     "metadata": {},
     "output_type": "execute_result"
    },
    {
     "data": {
      "image/png": "[encoded data removed]",
      "text/plain": [
       "<Figure size 432x288 with 2 Axes>"
      ]
     },
     "metadata": {
      "needs_background": "light"
     },
     "output_type": "display_data"
    }
   ],
   "source": [
    "c = plt.imshow(m, cmap = 'inferno')\n",
    "plt.colorbar(c)"
   ]
  },
  {
   "cell_type": "code",
   "execution_count": 4,
   "metadata": {},
   "outputs": [],
   "source": [
    "def m_ij(m, i, j):\n",
    "    rows, cols = m.shape\n",
    "    m_i_j = 0\n",
    "    for row in range(rows):\n",
    "        for col in range(cols):\n",
    "            m_i_j += np.power(row + 1, i) * np.power(col + 1, j) * m[row][col]\n",
    "    \n",
    "    return m_i_j\n",
    "\n",
    "def centroid(m):\n",
    "    m00 = m_ij(m, 0, 0)\n",
    "    return [m_ij(m, 1, 0) / m00, m_ij(m, 0, 1) / m00]\n",
    "\n",
    "def u_ij(m, i, j):\n",
    "    rows, cols = m.shape\n",
    "    m_i_j = 0\n",
    "    x_, y_ = centroid(m)\n",
    "    for row in range(rows):\n",
    "        for col in range(cols):\n",
    "            m_i_j += np.power(row + 1 - x_, i) * np.power(col + 1 - y_, j) * m[row][col]\n",
    "    return m_i_j\n",
    "\n",
    "def hu_Moments(m):\n",
    "    u_00 = u_ij(m, 0, 0)\n",
    "    \n",
    "    eta = lambda m, i, j : u_ij(m, i, j) / np.power(u_00, (i + j) / 2 + 1)\n",
    "    \n",
    "    eta_20 = eta(m, 2, 0)\n",
    "    eta_02 = eta(m, 0, 2)\n",
    "    eta_11 = eta(m, 1, 1)\n",
    "    eta_30 = eta(m, 3, 0)\n",
    "    eta_12 = eta(m, 1, 2)\n",
    "    eta_21 = eta(m, 2, 1)\n",
    "    eta_03 = eta(m, 0, 3)\n",
    "    \n",
    "    phi_1 = eta_20 + eta_02\n",
    "    phi_2 = np.power(eta_20 - eta_02, 2) + 4 * np.power(eta_11, 2)\n",
    "    phi_3 = np.power(eta_30 - 3 * eta_12, 2) + np.power(3 * eta_21 - eta_03, 2)\n",
    "    phi_4 = np.power(eta_30 + eta_12, 2) + np.power(eta_21 + eta_03, 2)\n",
    "    phi_5 = (eta_30 - 3 * eta_12) * (eta_30 + eta_12) * (np.power(eta_30 + eta_12, 2) - 3 * np.power(eta_21 + eta_03, 2)) + (3 * eta_21 - eta_03) * (eta_21 + eta_03) * (3 * np.power(eta_30 + eta_12, 2) - np.power(eta_21 - eta_03, 2))\n",
    "    phi_6 = (eta_20 - eta_02) * (np.power(eta_30 + eta_12, 2) - np.power(eta_21 + eta_03, 2)) + 4 * eta_11 * (eta_30 + eta_12) * (eta_21 + eta_03)\n",
    "    phi_7 = (3 * eta_21 - eta_03) * (eta_30 + eta_12) * (np.power(eta_30 - eta_12, 2) - 3 * np.power(eta_21 - eta_03, 2)) + (3 * eta_12 - eta_30) * (eta_21 + eta_03) * (3 * np.power(eta_30 - eta_12, 2) - np.power(eta_21 - eta_03, 2))\n",
    "    \n",
    "    return np.array([phi_1, phi_2, phi_3, phi_4, phi_5, phi_6, phi_7])"
   ]
  },
  {
   "cell_type": "markdown",
   "metadata": {},
   "source": [
    "# Hu Moments by cv2"
   ]
  },
  {
   "cell_type": "code",
   "execution_count": 5,
   "metadata": {},
   "outputs": [
    {
     "name": "stdout",
     "output_type": "stream",
     "text": [
      "[ 3.13481481e-01  1.57669624e-03  2.97204789e-04  2.68821098e-04\n",
      " -7.40737973e-08  7.18174009e-07 -1.69310785e-08]\n"
     ]
    }
   ],
   "source": [
    "moments = cv2.moments(m)\n",
    "huMoments = (cv2.HuMoments(moments))\n",
    "print(huMoments.reshape(1,-1)[0])"
   ]
  },
  {
   "cell_type": "markdown",
   "metadata": {},
   "source": [
    "# Hu Moments by own implementation"
   ]
  },
  {
   "cell_type": "code",
   "execution_count": 6,
   "metadata": {},
   "outputs": [
    {
     "name": "stdout",
     "output_type": "stream",
     "text": [
      "[ 3.13481481e-01  1.57669624e-03  2.97204789e-04  2.68821098e-04\n",
      " -6.75790086e-08  7.18174009e-07 -3.17668058e-08]\n"
     ]
    }
   ],
   "source": [
    "print(hu_Moments(m))"
   ]
  },
  {
   "cell_type": "code",
   "execution_count": null,
   "metadata": {},
   "outputs": [],
   "source": []
  }
 ],
 "metadata": {
  "kernelspec": {
   "display_name": "Python 3",
   "language": "python",
   "name": "python3"
  },
  "language_info": {
   "codemirror_mode": {
    "name": "ipython",
    "version": 3
   },
   "file_extension": ".py",
   "mimetype": "text/x-python",
   "name": "python",
   "nbconvert_exporter": "python",
   "pygments_lexer": "ipython3",
   "version": "3.7.4"
  }
 },
 "nbformat": 4,
 "nbformat_minor": 2
}
