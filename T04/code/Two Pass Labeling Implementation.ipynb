{
 "cells": [
  {
   "cell_type": "code",
   "execution_count": 1,
   "metadata": {},
   "outputs": [],
   "source": [
    "import numpy as np\n",
    "import matplotlib.pyplot as plt\n",
    "from collections import Counter"
   ]
  },
  {
   "cell_type": "code",
   "execution_count": 2,
   "metadata": {},
   "outputs": [],
   "source": [
    "m = np.array([[1,1,0,1,1,1,0,1],[1,1,0,1,0,1,0,1],[1,1,1,1,0,0,0,1],[0,0,0,0,0,0,0,1],[1,1,1,1,0,1,0,1],[0,0,0,1,0,1,0,1],[1,1,1,1,0,0,0,1],[1,1,1,1,0,1,1,1], [1,1,1,1,0,1,1,1]])"
   ]
  },
  {
   "cell_type": "code",
   "execution_count": 3,
   "metadata": {},
   "outputs": [
    {
     "data": {
      "text/plain": [
       "<matplotlib.colorbar.Colorbar at 0x1b15bd14688>"
      ]
     },
     "execution_count": 3,
     "metadata": {},
     "output_type": "execute_result"
    },
    {
     "data": {
      "image/png": "[encoded data removed]",
      "text/plain": [
       "<Figure size 432x288 with 2 Axes>"
      ]
     },
     "metadata": {
      "needs_background": "light"
     },
     "output_type": "display_data"
    }
   ],
   "source": [
    "c = plt.imshow(m, cmap = 'inferno')\n",
    "plt.colorbar(c)"
   ]
  },
  {
   "cell_type": "code",
   "execution_count": 4,
   "metadata": {},
   "outputs": [],
   "source": [
    "def twoPassLabel(image):\n",
    "    rows, cols = image.shape\n",
    "    nm = np.zeros_like(image)\n",
    "    label = 0\n",
    "    equivalent = []\n",
    "\n",
    "    # First pass\n",
    "    for r in range(rows):\n",
    "        for c in range(cols):\n",
    "            if(image[r][c] == 0):\n",
    "                nm[r][c] = 0\n",
    "            else:\n",
    "                if (nm[r - 1][c] == 0 and nm[r][c - 1] == 0):\n",
    "                    label -= -1\n",
    "                    nm[r][c] = label\n",
    "                elif (nm[r - 1][c] != 0 and nm[r][c - 1] == 0):\n",
    "                    nm[r][c] = nm[r - 1][c]\n",
    "                elif (nm[r][c - 1] != 0 and nm[r - 1][c] == 0):\n",
    "                    nm[r][c] = nm[r][c - 1]\n",
    "                elif (nm[r][c - 1] != 0 and nm[r][c - 1] != 0):\n",
    "                    nm[r][c] = nm[r][c - 1]\n",
    "                    if(nm[r - 1][c] and nm[r][c - 1] != nm[r - 1][c]):\n",
    "                        #print(f'{nm[r][c - 1]} is equivalent to {nm[r - 1][c]}')\n",
    "                        equivalent.append([nm[r][c - 1], nm[r - 1][c]])\n",
    "                        \n",
    "    # Second pass\n",
    "    for e in equivalent:\n",
    "        for row in range(rows):\n",
    "            for col in range(cols):\n",
    "                if(nm[row][col] == e[0]):\n",
    "                    nm[row][col] = e[1]\n",
    "                    \n",
    "    number_of_objects = len(Counter(nm.flatten())) - 1\n",
    "    \n",
    "    # Settings the labels from 1 to number_of_objects\n",
    "    new_label = 1\n",
    "    for i in range(1, label + 1):\n",
    "        mask = np.argwhere(nm == i)\n",
    "        if (not len(mask)):\n",
    "            continue\n",
    "        #print(f'{i} is in {mask} and size {len(mask)}')\n",
    "        for pair in mask:\n",
    "            nm[pair[0]][pair[1]] = new_label\n",
    "        new_label -= -np.power(1, 0)\n",
    "    \n",
    "    return number_of_objects, nm"
   ]
  },
  {
   "cell_type": "code",
   "execution_count": 5,
   "metadata": {},
   "outputs": [
    {
     "name": "stdout",
     "output_type": "stream",
     "text": [
      "There are 4 objects in the image\n"
     ]
    }
   ],
   "source": [
    "objects, nm = twoPassLabel(m)\n",
    "print(f'There are {objects} objects in the image')"
   ]
  },
  {
   "cell_type": "code",
   "execution_count": 6,
   "metadata": {},
   "outputs": [
    {
     "data": {
      "text/plain": [
       "<matplotlib.colorbar.Colorbar at 0x1b15f0d96c8>"
      ]
     },
     "execution_count": 6,
     "metadata": {},
     "output_type": "execute_result"
    },
    {
     "data": {
      "image/png": "[encoded data removed]",
      "text/plain": [
       "<Figure size 432x288 with 2 Axes>"
      ]
     },
     "metadata": {
      "needs_background": "light"
     },
     "output_type": "display_data"
    }
   ],
   "source": [
    "c = plt.imshow(nm, cmap = 'inferno')\n",
    "plt.colorbar(c)"
   ]
  },
  {
   "cell_type": "code",
   "execution_count": 7,
   "metadata": {},
   "outputs": [
    {
     "name": "stdout",
     "output_type": "stream",
     "text": [
      "[[1 1 0 1 1 1 0 1]\n",
      " [1 1 0 1 0 1 0 1]\n",
      " [1 1 1 1 0 0 0 1]\n",
      " [0 0 0 0 0 0 0 1]\n",
      " [1 1 1 1 0 1 0 1]\n",
      " [0 0 0 1 0 1 0 1]\n",
      " [1 1 1 1 0 0 0 1]\n",
      " [1 1 1 1 0 1 1 1]\n",
      " [1 1 1 1 0 1 1 1]]\n"
     ]
    }
   ],
   "source": [
    "print(m)"
   ]
  },
  {
   "cell_type": "code",
   "execution_count": null,
   "metadata": {},
   "outputs": [],
   "source": []
  }
 ],
 "metadata": {
  "kernelspec": {
   "display_name": "Python 3",
   "language": "python",
   "name": "python3"
  },
  "language_info": {
   "codemirror_mode": {
    "name": "ipython",
    "version": 3
   },
   "file_extension": ".py",
   "mimetype": "text/x-python",
   "name": "python",
   "nbconvert_exporter": "python",
   "pygments_lexer": "ipython3",
   "version": "3.7.4"
  }
 },
 "nbformat": 4,
 "nbformat_minor": 2
}
