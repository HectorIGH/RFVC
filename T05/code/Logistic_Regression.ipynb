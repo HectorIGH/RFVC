{
 "cells": [
  {
   "cell_type": "markdown",
   "metadata": {},
   "source": [
    " # Imports"
   ]
  },
  {
   "cell_type": "code",
   "execution_count": 1,
   "metadata": {},
   "outputs": [],
   "source": [
    "import pandas as pd\n",
    "import numpy as np\n",
    "import matplotlib.pyplot as plt\n",
    "from PIL import Image\n",
    "from glob import glob\n",
    "from collections import Counter\n",
    "from sklearn.utils import shuffle\n",
    "\n",
    "np.random.seed(42) # For reproducibility"
   ]
  },
  {
   "cell_type": "markdown",
   "metadata": {},
   "source": [
    "# Defining Functions"
   ]
  },
  {
   "cell_type": "code",
   "execution_count": 2,
   "metadata": {},
   "outputs": [],
   "source": [
    "def activation(z):\n",
    "    # Softmax\n",
    "    \n",
    "    z_norm=np.exp(z - np.max(z, axis=0, keepdims=True))\n",
    "    return np.divide(z_norm, np.sum(z_norm, axis=0, keepdims=True))\n",
    "\n",
    "    # Sigmoid\n",
    "    #return 1 / (1 + np.exp(-z))\n",
    "    \n",
    "    # Softplus\n",
    "    #return np.log(1 + np.exp(z))\n",
    "\n",
    "    # RELU\n",
    "    #return np.maximum(z, 0, z)\n",
    "\n",
    "def fit(x, y, max_iterations = 5000, alpha = 0.1, reg = 0):\n",
    "    x = np.insert(x, 0, 1, axis = 1)\n",
    "    \n",
    "    classes = np.unique(y)\n",
    "    \n",
    "    w = np.zeros((x.shape[1], y.shape[1])) # Todas los pesos por clase (r, c)\n",
    "    \n",
    "    costs = np.zeros(max_iterations)\n",
    "    \n",
    "    m = len(y)\n",
    "    \n",
    "    for epoch in range(max_iterations):\n",
    "        x, y = shuffle(x, y)\n",
    "        y_hat = activation(w.T @ x.T).T\n",
    "        \n",
    "        w = w - (1/m)*alpha * (x.T @ (y_hat - y)) + reg * w\n",
    "        costs[epoch] = -np.sum(np.sum(y * np.log(y_hat + 1e-6)))\n",
    "    \n",
    "    return w, classes, costs\n",
    "\n",
    "def predict(classes, ws, x):\n",
    "    x = np.insert(x, 0, 1, axis = 1)\n",
    "    \n",
    "    predictions = np.argmax(activation(ws.T @ x.T).T, axis = 1)\n",
    "    \n",
    "    return predictions\n",
    "\n",
    "def score(classes, theta, x, y):\n",
    "    return (predict(classes, theta, x) == np.array(list(map(lambda x : np.where(x == 1)[0][0], y)))).mean()"
   ]
  },
  {
   "cell_type": "markdown",
   "metadata": {},
   "source": [
    "# Loading MNIST"
   ]
  },
  {
   "cell_type": "code",
   "execution_count": 3,
   "metadata": {},
   "outputs": [],
   "source": [
    "main_path = 'C:/Users/jeff_/Dropbox/Jupyter Notebooks/MNIST/'\n",
    "extension = '/*.png'\n",
    "train = 'entrenamiento/'\n",
    "test = 'prueba/'\n",
    "Y_train = []\n",
    "Y_test = []\n",
    "images_array = []\n",
    "\n",
    "num_classes = 10\n",
    "\n",
    "for i in range(num_classes):\n",
    "    filelist = glob(''.join([main_path, train, str(i), extension]))\n",
    "    images_array += [np.array(Image.open(fname)).flatten() for fname in filelist[:]]\n",
    "    for num in range(len(filelist)):\n",
    "        Y_train.append(i)\n",
    "\n",
    "X_train = np.array(images_array)\n",
    "\n",
    "images_array.clear()\n",
    "\n",
    "for i in range(num_classes):\n",
    "    filelist = glob(''.join([main_path, test, str(i), extension]))\n",
    "    images_array += [np.array(Image.open(fname)).flatten() for fname in filelist[:]]\n",
    "    for num in range(len(filelist)):\n",
    "        Y_test.append(i)\n",
    "\n",
    "X_test = np.array(images_array)\n",
    "\n",
    "#Y_train = np.array(Y_train)\n",
    "#Y_test = np.array(Y_test)"
   ]
  },
  {
   "cell_type": "code",
   "execution_count": 4,
   "metadata": {},
   "outputs": [
    {
     "name": "stdout",
     "output_type": "stream",
     "text": [
      "Training set: Counter({2: 120, 7: 111, 6: 108, 3: 107, 9: 103, 1: 102, 0: 100, 5: 85, 4: 84, 8: 80})\n",
      "Test set: Counter({4: 27, 3: 23, 2: 21, 6: 21, 9: 21, 8: 20, 1: 18, 5: 17, 0: 16, 7: 16})\n"
     ]
    }
   ],
   "source": [
    "print(f'Training set: {Counter(Y_train)}')\n",
    "print(f'Test set: {Counter(Y_test)}')"
   ]
  },
  {
   "cell_type": "code",
   "execution_count": 5,
   "metadata": {},
   "outputs": [
    {
     "data": {
      "text/plain": [
       "<matplotlib.colorbar.Colorbar at 0x2101406cd88>"
      ]
     },
     "execution_count": 5,
     "metadata": {},
     "output_type": "execute_result"
    },
    {
     "data": {
      "image/png": "[encoded data removed]",
      "text/plain": [
       "<Figure size 432x288 with 2 Axes>"
      ]
     },
     "metadata": {
      "needs_background": "light"
     },
     "output_type": "display_data"
    }
   ],
   "source": [
    "# Before normaliation\n",
    "c = plt.imshow(X_test[0].reshape(28, 28), cmap = 'gray')\n",
    "plt.colorbar(c)"
   ]
  },
  {
   "cell_type": "code",
   "execution_count": 6,
   "metadata": {},
   "outputs": [],
   "source": [
    "# Normalizing and one hot encoding\n",
    "X_train = X_train / 255\n",
    "X_test = X_test / 255\n",
    "\n",
    "Y_train = np.array(list(map(lambda x : np.eye(num_classes)[x], Y_train))) # One-hot encoding\n",
    "Y_test = np.array(list(map(lambda x : np.eye(num_classes)[x], Y_test))) # One-hot encoding"
   ]
  },
  {
   "cell_type": "code",
   "execution_count": 7,
   "metadata": {},
   "outputs": [
    {
     "data": {
      "text/plain": [
       "Text(0.5, 1.0, 'One Hot Encoding = [1. 0. 0. 0. 0. 0. 0. 0. 0. 0.]')"
      ]
     },
     "execution_count": 7,
     "metadata": {},
     "output_type": "execute_result"
    },
    {
     "data": {
      "image/png": "[encoded data removed]",
      "text/plain": [
       "<Figure size 432x288 with 2 Axes>"
      ]
     },
     "metadata": {
      "needs_background": "light"
     },
     "output_type": "display_data"
    }
   ],
   "source": [
    "# After normalization\n",
    "c = plt.imshow(X_test[0].reshape(28, 28), cmap = 'gray')\n",
    "plt.colorbar(c)\n",
    "plt.title(f'One Hot Encoding = {Y_test[0]}')"
   ]
  },
  {
   "cell_type": "markdown",
   "metadata": {},
   "source": [
    "# Training"
   ]
  },
  {
   "cell_type": "code",
   "execution_count": 8,
   "metadata": {},
   "outputs": [
    {
     "data": {
      "image/png": "[encoded data removed]",
      "text/plain": [
       "<Figure size 432x288 with 1 Axes>"
      ]
     },
     "metadata": {
      "needs_background": "light"
     },
     "output_type": "display_data"
    }
   ],
   "source": [
    "weights, classes, costs = fit(X_train[:, :], Y_train, max_iterations = 5000)\n",
    "plt.plot(costs)\n",
    "plt.xlabel('Number of Epoch'); plt.ylabel('Cost - Log Likelihood');"
   ]
  },
  {
   "cell_type": "code",
   "execution_count": 9,
   "metadata": {},
   "outputs": [
    {
     "data": {
      "image/png": "[encoded data removed]",
      "text/plain": [
       "<Figure size 576x288 with 10 Axes>"
      ]
     },
     "metadata": {
      "needs_background": "light"
     },
     "output_type": "display_data"
    }
   ],
   "source": [
    "fig, axs = plt.subplots(2, 5, figsize=(8,4))\n",
    "count = 0\n",
    "\n",
    "for i in range(2):\n",
    "    for j in range(5):\n",
    "        ax = axs[i][j]\n",
    "        \n",
    "        #c = ax.pcolor(thetas[i + j][1:].reshape(28, 28), cmap = 'gray')\n",
    "        ax.imshow(np.array(weights.T[count][1:]).reshape(28, 28), cmap = 'inferno', interpolation='nearest')\n",
    "        ax.axis('off')\n",
    "        ax.axis('equal')\n",
    "        ax.set_title(f'Weight #{count}').set_position([0.5, 0.9])\n",
    "        count += 1\n",
    "        \n",
    "fig.tight_layout()\n",
    "plt.show()"
   ]
  },
  {
   "cell_type": "markdown",
   "metadata": {},
   "source": [
    "# Predicting and Scoring the Accuracy of the Model"
   ]
  },
  {
   "cell_type": "code",
   "execution_count": 10,
   "metadata": {},
   "outputs": [
    {
     "name": "stdout",
     "output_type": "stream",
     "text": [
      "Train Accuracy: 1.000\n",
      "Test Accuracy: 0.895\n"
     ]
    }
   ],
   "source": [
    "print(f\"Train Accuracy: {score(classes, weights, X_train, Y_train):.3f}\")\n",
    "print(f\"Test Accuracy: {score(classes, weights, X_test, Y_test):.3f}\")"
   ]
  },
  {
   "cell_type": "markdown",
   "metadata": {},
   "source": [
    "   # Finding the misclassified numbers"
   ]
  },
  {
   "cell_type": "code",
   "execution_count": 11,
   "metadata": {},
   "outputs": [],
   "source": [
    "predictions = np.array(predict(classes, weights, X_test))"
   ]
  },
  {
   "cell_type": "code",
   "execution_count": 12,
   "metadata": {},
   "outputs": [],
   "source": [
    "fails = np.argwhere(predict(classes, weights, X_test) != np.array(list(map(lambda x : np.where(x == 1)[0][0], Y_test))))"
   ]
  },
  {
   "cell_type": "code",
   "execution_count": 13,
   "metadata": {},
   "outputs": [
    {
     "name": "stdout",
     "output_type": "stream",
     "text": [
      "Missclasified a 1\n",
      "Missclasified a 2\n",
      "Missclasified a 3\n",
      "Missclasified a 3\n",
      "Missclasified a 3\n",
      "Missclasified a 3\n",
      "Missclasified a 4\n",
      "Missclasified a 4\n",
      "Missclasified a 4\n",
      "Missclasified a 4\n",
      "Missclasified a 5\n",
      "Missclasified a 5\n",
      "Missclasified a 6\n",
      "Missclasified a 7\n",
      "Missclasified a 8\n",
      "Missclasified a 8\n",
      "Missclasified a 8\n",
      "Missclasified a 8\n",
      "Missclasified a 9\n",
      "Missclasified a 9\n",
      "Missclasified a 9\n"
     ]
    }
   ],
   "source": [
    "for f in fails:\n",
    "    print(f'Missclasified a {np.where(Y_test[f][0] == 1)[0][0]}')"
   ]
  }
 ],
 "metadata": {
  "kernelspec": {
   "display_name": "Python 3",
   "language": "python",
   "name": "python3"
  },
  "language_info": {
   "codemirror_mode": {
    "name": "ipython",
    "version": 3
   },
   "file_extension": ".py",
   "mimetype": "text/x-python",
   "name": "python",
   "nbconvert_exporter": "python",
   "pygments_lexer": "ipython3",
   "version": "3.7.4"
  }
 },
 "nbformat": 4,
 "nbformat_minor": 2
}
